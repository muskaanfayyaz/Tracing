{
  "nbformat": 4,
  "nbformat_minor": 0,
  "metadata": {
    "colab": {
      "provenance": [],
      "authorship_tag": "ABX9TyMjJET7pWyyebOrFqHXAthp",
      "include_colab_link": true
    },
    "kernelspec": {
      "name": "python3",
      "display_name": "Python 3"
    },
    "language_info": {
      "name": "python"
    }
  },
  "cells": [
    {
      "cell_type": "markdown",
      "metadata": {
        "id": "view-in-github",
        "colab_type": "text"
      },
      "source": [
        "<a href=\"https://colab.research.google.com/github/muskaanfayyaz/Tracing/blob/main/basic_tracing.ipynb\" target=\"_parent\"><img src=\"https://colab.research.google.com/assets/colab-badge.svg\" alt=\"Open In Colab\"/></a>"
      ]
    },
    {
      "cell_type": "code",
      "execution_count": 1,
      "metadata": {
        "colab": {
          "base_uri": "https://localhost:8080/"
        },
        "id": "IjxsMX2HW7en",
        "outputId": "b82cef7a-0a0d-4ffb-b56e-1554cc929c15"
      },
      "outputs": [
        {
          "output_type": "stream",
          "name": "stdout",
          "text": [
            "\u001b[2K     \u001b[90m━━━━━━━━━━━━━━━━━━━━━━━━━━━━━━━━━━━━━━━━\u001b[0m \u001b[32m68.7/68.7 kB\u001b[0m \u001b[31m2.1 MB/s\u001b[0m eta \u001b[36m0:00:00\u001b[0m\n",
            "\u001b[2K   \u001b[90m━━━━━━━━━━━━━━━━━━━━━━━━━━━━━━━━━━━━━━━━\u001b[0m \u001b[32m167.2/167.2 kB\u001b[0m \u001b[31m10.4 MB/s\u001b[0m eta \u001b[36m0:00:00\u001b[0m\n",
            "\u001b[2K   \u001b[90m━━━━━━━━━━━━━━━━━━━━━━━━━━━━━━━━━━━━━━━━\u001b[0m \u001b[32m138.8/138.8 kB\u001b[0m \u001b[31m10.6 MB/s\u001b[0m eta \u001b[36m0:00:00\u001b[0m\n",
            "\u001b[2K   \u001b[90m━━━━━━━━━━━━━━━━━━━━━━━━━━━━━━━━━━━━━━━━\u001b[0m \u001b[32m160.2/160.2 kB\u001b[0m \u001b[31m14.3 MB/s\u001b[0m eta \u001b[36m0:00:00\u001b[0m\n",
            "\u001b[2K   \u001b[90m━━━━━━━━━━━━━━━━━━━━━━━━━━━━━━━━━━━━━━━━\u001b[0m \u001b[32m45.2/45.2 kB\u001b[0m \u001b[31m3.5 MB/s\u001b[0m eta \u001b[36m0:00:00\u001b[0m\n",
            "\u001b[2K   \u001b[90m━━━━━━━━━━━━━━━━━━━━━━━━━━━━━━━━━━━━━━━━\u001b[0m \u001b[32m786.8/786.8 kB\u001b[0m \u001b[31m16.6 MB/s\u001b[0m eta \u001b[36m0:00:00\u001b[0m\n",
            "\u001b[?25h"
          ]
        }
      ],
      "source": [
        "!pip install -Uq openai-agents\n",
        "!pip install -Uq openai openai-agents"
      ]
    },
    {
      "cell_type": "code",
      "source": [
        "import nest_asyncio\n",
        "nest_asyncio.apply()\n",
        "from google.colab import userdata\n",
        "\n",
        "GEMINI_API_KEY = userdata.get(\"GEMINI_API_KEY\")\n",
        "if not GEMINI_API_KEY:\n",
        "    raise ValueError(\"❌ No GEMINI_API_KEY found in Colab userdata. Go to Colab → Tools → Variables and set it.\")\n"
      ],
      "metadata": {
        "id": "UkYOgy5wW9IW"
      },
      "execution_count": 3,
      "outputs": []
    },
    {
      "cell_type": "code",
      "source": [
        "from agents import Agent, Runner, trace, OpenAIChatCompletionsModel, RunConfig\n",
        "from openai import AsyncOpenAI\n",
        "import asyncio\n",
        "\n",
        "from agents import Agent, Runner, trace\n",
        "\n",
        "# Create OpenAI-compatible Gemini client\n",
        "external_client = AsyncOpenAI(\n",
        "    api_key=GEMINI_API_KEY,\n",
        "    base_url=\"https://generativelanguage.googleapis.com/v1beta/openai/\",\n",
        ")\n",
        "\n",
        "# Define model using Gemini\n",
        "model = OpenAIChatCompletionsModel(\n",
        "    model=\"gemini-2.5-flash\",\n",
        "    openai_client=external_client\n",
        ")\n",
        "\n",
        "# Run configuration\n",
        "config = RunConfig(\n",
        "    model=model,\n",
        "    tracing_disabled=True\n",
        ")\n",
        "\n",
        "\n",
        "async def main():\n",
        "    agent = Agent(name=\"Joke generator\", instructions=\"Tell funny jokes.\")\n",
        "\n",
        "    with trace(\"Joke workflow\"):\n",
        "        first_result = await Runner.run(agent, \"Tell me a joke\", run_config=config)\n",
        "        second_result = await Runner.run(agent, f\"Rate this joke: {first_result.final_output}\", run_config=config)\n",
        "        print(f\"Joke: {first_result.final_output}\")\n",
        "        print(f\"Rating: {second_result.final_output}\")\n",
        "\n",
        "asyncio.run(main())"
      ],
      "metadata": {
        "colab": {
          "base_uri": "https://localhost:8080/"
        },
        "id": "m7YcRpZVW9F3",
        "outputId": "c72d0c2a-f8cf-4f3b-9559-655302ae2170"
      },
      "execution_count": 5,
      "outputs": [
        {
          "output_type": "stream",
          "name": "stderr",
          "text": [
            "WARNING:openai.agents:OPENAI_API_KEY is not set, skipping trace export\n"
          ]
        },
        {
          "output_type": "stream",
          "name": "stdout",
          "text": [
            "Joke: Why did the scarecrow win an award?\n",
            "\n",
            "Because he was outstanding in his field!\n",
            "Rating: That's a classic! It's definitely a **solid 4 out of 5** in the \"dad joke\" category.\n",
            "\n",
            "Here's why:\n",
            "\n",
            "*   **Clever Pun:** The play on \"outstanding\" (excellent vs. literally standing out) and \"in his field\" (area of expertise vs. a literal field) is well-executed and perfectly aligned with the scarecrow.\n",
            "*   **Harmless & Family-Friendly:** It's the kind of joke you can tell anyone, anywhere.\n",
            "*   **Predictable but Satisfying:** You can often see the punchline coming with these types of jokes, but that's part of their charm. It delivers exactly what you expect from a good, clean pun.\n",
            "\n",
            "It gets a chuckle and a slight groan (the good kind!). Well done!\n"
          ]
        }
      ]
    },
    {
      "cell_type": "code",
      "source": [
        "from agents import Agent, Runner, AsyncOpenAI, OpenAIChatCompletionsModel, function_tool\n",
        "\n",
        "# 1. Which LLM Service?\n",
        "external_client: AsyncOpenAI = AsyncOpenAI(\n",
        "    api_key=GEMINI_API_KEY,\n",
        "    base_url=\"https://generativelanguage.googleapis.com/v1beta/openai/\",\n",
        ")\n",
        "\n",
        "# 2. Which LLM Model?\n",
        "llm_model: OpenAIChatCompletionsModel = OpenAIChatCompletionsModel(\n",
        "    model=\"gemini-2.5-flash\",\n",
        "    openai_client=external_client\n",
        ")\n",
        "\n",
        "@function_tool\n",
        "def get_weather(city: str) -> str:\n",
        "    \"\"\"A simple function to get the weather for a user.\"\"\"\n",
        "    return f\"The weather for {city} is sunny.\"\n",
        "\n",
        "\n",
        "base_agent: Agent = Agent(\n",
        "    name=\"WeatherAgent\",\n",
        "    instructions=\"You are a helpful assistant.\",\n",
        "    model=llm_model,\n",
        "    tools=[get_weather]\n",
        ")\n",
        "\n",
        "new_agent: Agent = Agent(\n",
        "    name=\"WeatherAgent\",\n",
        "    instructions=\"You are a helpful assistant.\",\n",
        "    model=llm_model,\n",
        "    tools=[get_weather]\n",
        ")\n",
        "\n",
        "res = Runner.run_sync(base_agent, \"What's the weather in Karachi?\")\n",
        "print(res)\n",
        "\n",
        "# Now check the trace in"
      ],
      "metadata": {
        "colab": {
          "base_uri": "https://localhost:8080/"
        },
        "id": "gwcIsda-W9DB",
        "outputId": "0e8c5a4b-9252-4192-ddbb-6d27e753c7a9"
      },
      "execution_count": 6,
      "outputs": [
        {
          "output_type": "stream",
          "name": "stdout",
          "text": [
            "RunResult:\n",
            "- Last agent: Agent(name=\"WeatherAgent\", ...)\n",
            "- Final output (str):\n",
            "    The weather in Karachi is sunny.\n",
            "- 3 new item(s)\n",
            "- 2 raw response(s)\n",
            "- 0 input guardrail result(s)\n",
            "- 0 output guardrail result(s)\n",
            "(See `RunResult` for more details)\n"
          ]
        }
      ]
    }
  ]
}